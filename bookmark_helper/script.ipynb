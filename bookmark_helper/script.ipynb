{
 "cells": [
  {
   "cell_type": "code",
   "execution_count": 49,
   "metadata": {},
   "outputs": [],
   "source": [
    "from collect_data import request_info"
   ]
  },
  {
   "cell_type": "code",
   "execution_count": 50,
   "metadata": {},
   "outputs": [],
   "source": [
    "url=\"https://www.decathlon.com.au/\""
   ]
  },
  {
   "cell_type": "code",
   "execution_count": null,
   "metadata": {},
   "outputs": [],
   "source": [
    "request_info(url, timeout=10000)"
   ]
  },
  {
   "cell_type": "code",
   "execution_count": 52,
   "metadata": {},
   "outputs": [],
   "source": [
    "import requests\n",
    "from requests.exceptions import Timeout\n",
    "import bs4"
   ]
  },
  {
   "cell_type": "code",
   "execution_count": 53,
   "metadata": {},
   "outputs": [],
   "source": [
    "r = requests.get(url)"
   ]
  },
  {
   "cell_type": "code",
   "execution_count": null,
   "metadata": {},
   "outputs": [],
   "source": [
    "r.text"
   ]
  },
  {
   "cell_type": "code",
   "execution_count": null,
   "metadata": {},
   "outputs": [],
   "source": [
    "r.encoding"
   ]
  },
  {
   "cell_type": "code",
   "execution_count": 56,
   "metadata": {},
   "outputs": [],
   "source": [
    "encoding = \"gb18030\"\n",
    "if r.encoding == 'ISO-8859-1':\n",
    "    r.encoding = 'utf-8' \n",
    "    "
   ]
  },
  {
   "cell_type": "code",
   "execution_count": null,
   "metadata": {},
   "outputs": [],
   "source": [
    "# r.encoding = 'utf-8' \n",
    "soup = bs4.BeautifulSoup(r.text, 'html.parser', from_encoding=encoding)\n",
    "soup.title.string"
   ]
  },
  {
   "cell_type": "code",
   "execution_count": null,
   "metadata": {},
   "outputs": [],
   "source": [
    "\n",
    "# 获取网页中的所有文本\n",
    "page_text = soup.get_text(separator=' ', strip=True)\n",
    "\n",
    "# 获取前 100 个字符\n",
    "page_text[:1000]"
   ]
  },
  {
   "cell_type": "code",
   "execution_count": null,
   "metadata": {},
   "outputs": [],
   "source": [
    "word=\"你好\"\n",
    "word.isalpha() and len(word) > 1"
   ]
  },
  {
   "cell_type": "code",
   "execution_count": null,
   "metadata": {},
   "outputs": [],
   "source": [
    "\"\"\"\n",
    "concat content and use TFIDF to get the tags\n",
    "\"\"\"\n",
    "from sklearn.feature_extraction.text import TfidfVectorizer\n",
    "import json\n",
    "import jieba\n",
    "import jieba.posseg as pseg\n",
    "import matplotlib.pyplot as plt\n",
    "import numpy as np\n",
    "\n",
    "import nltk\n",
    "nltk.download('stopwords')\n",
    "nltk.download('averaged_perceptron_tagger')\n",
    "nltk.download('maxent_ne_chunker')\n",
    "nltk.download('words')\n",
    "nltk.download('punkt')\n",
    "nltk.download('wordnet')\n",
    "nltk.download('punkt_tab')\n",
    "nltk.download('averaged_perceptron_tagger_eng')\n",
    "nltk.download('maxent_ne_chunker_tab')\n",
    "from nltk.corpus import stopwords\n",
    "stop_words = set(stopwords.words('chinese'))\n",
    "stop_words_eng = set(stopwords.words('english'))\n",
    "from nltk.corpus import wordnet as wn\n",
    "from nltk import ne_chunk, pos_tag, word_tokenize\n",
    "\n",
    "\n",
    "def is_english_noun(word):\n",
    "    \"\"\"检查一个英文单词是否为名词\"\"\"\n",
    "    synsets = wn.synsets(word, pos=wn.NOUN)\n",
    "    return len(synsets) > 0\n",
    "\n",
    "def is_proper_noun(word):\n",
    "    \"\"\"检查一个英文单词是否为专有名词\"\"\"\n",
    "    words = word_tokenize(word)\n",
    "    tagged = pos_tag(words)\n",
    "    named_entities = ne_chunk(tagged)\n",
    "    for chunk in named_entities:\n",
    "        if hasattr(chunk, 'label') and chunk.label() in ['PERSON', 'ORGANIZATION', 'GPE']:\n",
    "            return True\n",
    "    return False"
   ]
  },
  {
   "cell_type": "code",
   "execution_count": null,
   "metadata": {},
   "outputs": [],
   "source": [
    "is_proper_noun(word)"
   ]
  }
 ],
 "metadata": {
  "kernelspec": {
   "display_name": "Python 3",
   "language": "python",
   "name": "python3"
  },
  "language_info": {
   "codemirror_mode": {
    "name": "ipython",
    "version": 3
   },
   "file_extension": ".py",
   "mimetype": "text/x-python",
   "name": "python",
   "nbconvert_exporter": "python",
   "pygments_lexer": "ipython3",
   "version": "3.12.4"
  }
 },
 "nbformat": 4,
 "nbformat_minor": 2
}
